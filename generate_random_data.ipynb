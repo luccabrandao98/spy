{
 "cells": [
  {
   "cell_type": "code",
   "execution_count": 22,
   "metadata": {},
   "outputs": [],
   "source": [
    "from faker import Faker\n",
    "import random\n",
    "import datetime\n",
    "import pandas as pd\n",
    "\n",
    "# Inicialize o Faker\n",
    "fake = Faker()\n",
    "\n",
    "# Lista de nomes de tênis famosos\n",
    "tennis_names = {\"Nike Air Max\":300, \"Adidas Stan Smith\":250, \"Converse Chuck Taylor\":200, \"Vans Old Skool\":190, \n",
    "                \"Reebok Classic Leather\":220, \"Puma Suede\":210, \"New Balance 574\":240, \"Asics Gel-Kayano\":230, \n",
    "                \"Brooks Ghost\":180, \"Mizuno Wave Rider\":270}\n",
    "\n",
    "store_names = [\"Sneaker Haven\", \"Footwear Emporium\", \"Kicks Kingdom\", \"Shoe Sanctuary\", \"Sole Central\"]\n",
    "\n",
    "# Número de linhas de dados que você quer gerar\n",
    "num_rows = 500\n",
    "\n",
    "# Lista para armazenar os dados gerados\n",
    "data = []\n",
    "\n",
    "# Gerar dados para cada linha\n",
    "for _ in range(num_rows):\n",
    "    # Calcular a data mínima permitida\n",
    "    min_date = datetime.datetime.today() - datetime.timedelta(days=90)\n",
    "\n",
    "    # Gerar uma data dentro dos últimos 3 meses\n",
    "    created_at = fake.date_between(start_date=min_date, end_date='now')\n",
    "    product = random.choice(list(tennis_names.keys()))\n",
    "    store_name = random.choice(store_names)\n",
    "    price = tennis_names[product] + round(random.uniform(-15,15),2) # Preço aleatório entre 100 e 300\n",
    "    percentage_discount = round(random.uniform(0, 30), 2)/100  # Desconto percentual aleatório entre 0 e 50\n",
    "    total_discount = round(price * (percentage_discount), 2)  # Calcula o desconto total\n",
    "\n",
    "    data.append([created_at, product, store_name, price, percentage_discount, total_discount])\n"
   ]
  },
  {
   "cell_type": "code",
   "execution_count": 25,
   "metadata": {},
   "outputs": [],
   "source": [
    "df = pd.DataFrame(data, columns=['created_at', 'product', 'store_name', 'price', 'percentage_discount', 'total_discount'])\n",
    "df.to_csv('data.csv', index=False)"
   ]
  },
  {
   "cell_type": "code",
   "execution_count": 29,
   "metadata": {},
   "outputs": [
    {
     "name": "stdout",
     "output_type": "stream",
     "text": [
      "Os nomes dos produtos correspondem.\n"
     ]
    }
   ],
   "source": [
    "import numpy as np\n",
    "\n",
    "def levenshtein_distance(s1, s2):\n",
    "    m = len(s1)\n",
    "    n = len(s2)\n",
    "    dp = np.zeros((m+1, n+1))\n",
    "\n",
    "    for i in range(m+1):\n",
    "        dp[i][0] = i\n",
    "    for j in range(n+1):\n",
    "        dp[0][j] = j\n",
    "\n",
    "    for i in range(1, m+1):\n",
    "        for j in range(1, n+1):\n",
    "            if s1[i-1] == s2[j-1]:\n",
    "                dp[i][j] = dp[i-1][j-1]\n",
    "            else:\n",
    "                dp[i][j] = 1 + min(dp[i-1][j],        # Deletion\n",
    "                                   dp[i][j-1],        # Insertion\n",
    "                                   dp[i-1][j-1])     # Substitution\n",
    "    return dp[m][n]\n",
    "\n",
    "def match_product_names(name1, name2, threshold):\n",
    "    distance = levenshtein_distance(name1.lower(), name2.lower())\n",
    "    max_length = max(len(name1), len(name2))\n",
    "    similarity = 1 - (distance / max_length)\n",
    "    if similarity >= threshold:\n",
    "        return True\n",
    "    else:\n",
    "        return False\n",
    "\n",
    "# Exemplo de uso:\n",
    "name1 = \"Puma Sued\"\n",
    "name2 = \"Puma Suede\"\n",
    "threshold = 0.7  # Ajuste conforme necessário\n",
    "if match_product_names(name1, name2, threshold):\n",
    "    print(\"Os nomes dos produtos correspondem.\")\n",
    "else:\n",
    "    print(\"Os nomes dos produtos não correspondem.\")"
   ]
  },
  {
   "cell_type": "code",
   "execution_count": 44,
   "metadata": {},
   "outputs": [
    {
     "name": "stdout",
     "output_type": "stream",
     "text": [
      "\u001b[1m1/1\u001b[0m \u001b[32m━━━━━━━━━━━━━━━━━━━━\u001b[0m\u001b[37m\u001b[0m \u001b[1m0s\u001b[0m 199ms/step\n",
      "Similaridade entre os nomes dos produtos: [1.9942555]\n"
     ]
    }
   ],
   "source": [
    "import numpy as np\n",
    "import tensorflow as tf\n",
    "from tensorflow.keras.layers import Input, LSTM, Dense, Lambda\n",
    "from tensorflow.keras.models import Model\n",
    "from tensorflow.keras.losses import cosine_similarity\n",
    "from tensorflow.keras.optimizers import Adam\n",
    "\n",
    "# Função para calcular a distância de cosseno entre vetores\n",
    "def cosine_distance(vectors):\n",
    "    x, y = vectors\n",
    "    x = tf.nn.l2_normalize(x, axis=1)\n",
    "    y = tf.nn.l2_normalize(y, axis=1)\n",
    "    return 1 - cosine_similarity(x, y)  # Negativo da distância de cosseno para obter similaridade\n",
    "\n",
    "# Função para construir a arquitetura da rede siamês\n",
    "def siamese_model(input_shape):\n",
    "    input_1 = Input(shape=input_shape)\n",
    "    input_2 = Input(shape=input_shape)\n",
    "\n",
    "    lstm_layer = LSTM(128)\n",
    "    encoded_1 = lstm_layer(input_1)\n",
    "    encoded_2 = lstm_layer(input_2)\n",
    "\n",
    "    distance = Lambda(cosine_distance)([encoded_1, encoded_2])\n",
    "\n",
    "    model = Model(inputs=[input_1, input_2], outputs=distance)\n",
    "    return model\n",
    "\n",
    "# Dados de entrada: nomes de produtos\n",
    "name1 = \"Puma Suede Classic\"\n",
    "name2 = \"Nike Air max\"\n",
    "\n",
    "# Vetorizando os nomes de produtos (representação simples para este exemplo)\n",
    "max_length = 20\n",
    "input_dim = 1\n",
    "input_data_1 = np.array([[ord(char) for char in name1.ljust(max_length)]])  # Padding para o comprimento máximo\n",
    "input_data_2 = np.array([[ord(char) for char in name2.ljust(max_length)]])  # Padding para o comprimento máximo\n",
    "\n",
    "# Normalizando os dados\n",
    "input_data_1 = input_data_1 / 255.0\n",
    "input_data_2 = input_data_2 / 255.0\n",
    "\n",
    "# Definindo os rótulos (0 para não similar, 1 para similar)\n",
    "labels = np.array([1])\n",
    "\n",
    "# Definindo a forma dos dados de entrada\n",
    "input_shape = (max_length, input_dim)\n",
    "\n",
    "# Construindo e compilando o modelo\n",
    "model = siamese_model(input_shape)\n",
    "model.compile(optimizer=Adam(learning_rate=0.001), loss='mean_squared_error')\n",
    "\n",
    "# Avaliação\n",
    "similarity_score = model.predict([input_data_1, input_data_2])\n",
    "print(\"Similaridade entre os nomes dos produtos:\", similarity_score)\n"
   ]
  }
 ],
 "metadata": {
  "kernelspec": {
   "display_name": "base",
   "language": "python",
   "name": "python3"
  },
  "language_info": {
   "codemirror_mode": {
    "name": "ipython",
    "version": 3
   },
   "file_extension": ".py",
   "mimetype": "text/x-python",
   "name": "python",
   "nbconvert_exporter": "python",
   "pygments_lexer": "ipython3",
   "version": "3.11.7"
  }
 },
 "nbformat": 4,
 "nbformat_minor": 2
}
